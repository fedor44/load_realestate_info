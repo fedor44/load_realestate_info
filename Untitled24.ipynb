{
  "nbformat": 4,
  "nbformat_minor": 0,
  "metadata": {
    "colab": {
      "provenance": [],
      "authorship_tag": "ABX9TyO6H0T5FeoT9WcheMKOaY5u",
      "include_colab_link": true
    },
    "kernelspec": {
      "name": "python3",
      "display_name": "Python 3"
    },
    "language_info": {
      "name": "python"
    }
  },
  "cells": [
    {
      "cell_type": "markdown",
      "metadata": {
        "id": "view-in-github",
        "colab_type": "text"
      },
      "source": [
        "<a href=\"https://colab.research.google.com/github/fedor44/load_realestate_info/blob/main/Untitled24.ipynb\" target=\"_parent\"><img src=\"https://colab.research.google.com/assets/colab-badge.svg\" alt=\"Open In Colab\"/></a>"
      ]
    },
    {
      "cell_type": "code",
      "execution_count": 11,
      "metadata": {
        "id": "D7J8kLEamoC9"
      },
      "outputs": [],
      "source": [
        "# 1-1. 데이터 가져오기\n",
        "import requests\n",
        "import pandas as pd\n",
        "\n",
        "# 상일동 법정동코드 : 1174010300\n",
        "# 부동산 공공 데이터 openapi 를 통해 로드\n",
        "def get_data(gu_code, base_date):\n",
        "  url = 'http://openapi.molit.go.kr/OpenAPI_ToolInstallPackage/service/rest/RTMSOBJSvc/getRTMSDataSvcAptTradeDev'\n",
        "  service_key = '---------- service key ============'  \n",
        "  params ={'serviceKey' : {service_key}, 'pageNo' : '1', 'numOfRows' : '100', 'LAWD_CD' : {gu_code}, 'DEAL_YMD' : {base_date} }\n",
        "  res = requests.get(url, params=params)\n",
        "  return res\n",
        "\n",
        "# xml을 데이터 프레임으로 변환\n",
        "import xml.etree.ElementTree as ET\n",
        "\n",
        "def get_items(response):\n",
        "    root = ET.fromstring(response.content)\n",
        "    item_list = []\n",
        "    for child in root.find('body').find('items'):\n",
        "        elements = child.findall('*')\n",
        "        data = {}\n",
        "        for element in elements:\n",
        "            tag = element.tag.strip()\n",
        "            text = element.text.strip()\n",
        "            # print tag, text\n",
        "            data[tag] = text\n",
        "        item_list.append(data)  \n",
        "    return item_list\n",
        "\n",
        "\n",
        "# 검색 범위 설정 (날짜)\n",
        "year = [str(\"%02d\" %(y)) for y in range(2020, 2023)]\n",
        "month = [str(\"%02d\" %(m)) for m in range(1, 13)]\n",
        "base_date_list = [\"%s%s\" %(y, m) for y in year for m in month ]\n",
        "\n",
        "# 루프를 돌며 검색\n",
        "items_list = []\n",
        "gu_code = '11740'\n",
        "for base_date in base_date_list:\n",
        "    res = get_data(gu_code, base_date)\n",
        "    items_list += get_items(res)\n",
        "    \n",
        "#len(items_list)\n",
        "\n",
        "# csv 파일로 로드한 정보 저장 (전처리 필요)\n",
        "items = pd.DataFrame(items_list) \n",
        "items.head()\n",
        "items.to_csv('부동산정보.csv', index=False,encoding=\"euc-kr\") \n"
      ]
    }
  ]
}
